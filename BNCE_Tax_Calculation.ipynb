{
  "nbformat": 4,
  "nbformat_minor": 0,
  "metadata": {
    "colab": {
      "provenance": [],
      "toc_visible": true,
      "authorship_tag": "ABX9TyORhrscZr4ZDXK+lsriEDJ1",
      "include_colab_link": true
    },
    "kernelspec": {
      "name": "python3",
      "display_name": "Python 3"
    },
    "language_info": {
      "name": "python"
    }
  },
  "cells": [
    {
      "cell_type": "markdown",
      "metadata": {
        "id": "view-in-github",
        "colab_type": "text"
      },
      "source": [
        "<a href=\"https://colab.research.google.com/github/Bhairavi-Logic/Test-skills-copilot-codespaces-vscode/blob/main/BNCE_Tax_Calculation.ipynb\" target=\"_parent\"><img src=\"https://colab.research.google.com/assets/colab-badge.svg\" alt=\"Open In Colab\"/></a>"
      ]
    },
    {
      "cell_type": "markdown",
      "source": [
        "# Get Data from exchange"
      ],
      "metadata": {
        "id": "h0YDOOFUOIOL"
      }
    },
    {
      "cell_type": "markdown",
      "source": [
        "The below code will extract transaction data from the exchange.\n",
        "The code is broken into sections."
      ],
      "metadata": {
        "id": "bj-BJ6ypNwU5"
      }
    },
    {
      "cell_type": "code",
      "execution_count": null,
      "metadata": {
        "id": "WXopqzJ9sWYl"
      },
      "outputs": [],
      "source": [
        "# prompt: get transaction data from Binance from main and all sub accounts\n",
        "\n",
        "from binance.client import Client\n",
        "import pandas as pd\n",
        "import os\n",
        "\n",
        "# Replace with your API key and secret\n",
        "api_key = os.environ.get('BINANCE_API_KEY')  # Recommended: Store keys as environment variables\n",
        "api_secret = os.environ.get('BINANCE_API_SECRET')\n",
        "\n",
        "client = Client(api_key, api_secret)\n",
        "\n",
        "def get_transactions(client, account_type='MAIN'):\n",
        "    \"\"\"Fetches transaction data from Binance.\n",
        "\n",
        "    Args:\n",
        "      client: Binance API client instance.\n",
        "      account_type: 'MAIN' or a sub-account email.\n",
        "\n",
        "    Returns:\n",
        "      pandas.DataFrame of transactions, or None on error.\n",
        "    \"\"\"\n",
        "    try:\n",
        "        if account_type == 'MAIN':\n",
        "            transactions = client.get_deposit_history()  # Example: Deposit History, change to get other transaction types\n",
        "        else:\n",
        "            transactions = client.get_deposit_history(email=account_type) #For sub accounts\n",
        "\n",
        "        df = pd.DataFrame(transactions['depositList'])\n",
        "        return df\n",
        "\n",
        "    except Exception as e:\n",
        "        print(f\"Error fetching data for {account_type}: {e}\")\n",
        "        return None\n",
        "\n",
        "def get_all_transactions(client):\n",
        "  \"\"\"Retrieves and combines transactions for the main account and any sub-accounts.\"\"\"\n",
        "  all_transactions = []\n",
        "\n",
        "  # Get main account transactions\n",
        "  main_transactions = get_transactions(client)\n",
        "  if main_transactions is not None:\n",
        "    all_transactions.append(main_transactions)\n",
        "\n",
        "\n",
        "  # Get sub-account transaction (you need to handle sub-account emails here)\n",
        "  # Replace 'subaccount@email.com' with actual sub-account email addresses\n",
        "  sub_account_emails = ['subaccount@email.com', 'another_sub@account.com'] #Example\n",
        "  for email in sub_account_emails:\n",
        "    sub_transactions = get_transactions(client, email)\n",
        "    if sub_transactions is not None:\n",
        "      all_transactions.append(sub_transactions)\n",
        "\n",
        "  if all_transactions:\n",
        "    combined_df = pd.concat(all_transactions, ignore_index=True)\n",
        "    return combined_df\n",
        "  else:\n",
        "    return None\n",
        "\n",
        "\n",
        "if __name__ == \"__main__\":\n",
        "  # Retrieve and combine all transaction data\n",
        "  all_data = get_all_transactions(client)\n",
        "  if all_data is not None:\n",
        "    all_data\n",
        "      # Further processing or saving of data\n",
        "      # Example: all_data.to_csv('all_transactions.csv', index=False)\n"
      ]
    },
    {
      "cell_type": "markdown",
      "source": [
        "# Transform Data"
      ],
      "metadata": {
        "id": "BR5uONY7OT14"
      }
    },
    {
      "cell_type": "markdown",
      "source": [
        "This section will transform data for use as necesary"
      ],
      "metadata": {
        "id": "Y236shmGObqO"
      }
    },
    {
      "cell_type": "code",
      "source": [],
      "metadata": {
        "id": "Vi1vYT84OiuF"
      },
      "execution_count": null,
      "outputs": []
    },
    {
      "cell_type": "markdown",
      "source": [
        "# Calculate Tax"
      ],
      "metadata": {
        "id": "o4WWVv5LOmcf"
      }
    },
    {
      "cell_type": "markdown",
      "source": [
        "This section will have series of functions and procedures to help calculate tax."
      ],
      "metadata": {
        "id": "enmwRqlgOt3W"
      }
    },
    {
      "cell_type": "markdown",
      "source": [
        "Calculate tax function"
      ],
      "metadata": {
        "id": "8dSi-jMOO3_h"
      }
    },
    {
      "cell_type": "code",
      "source": [],
      "metadata": {
        "id": "BaF5hF32O7n2"
      },
      "execution_count": null,
      "outputs": []
    },
    {
      "cell_type": "markdown",
      "source": [
        "remove from cost basis queue"
      ],
      "metadata": {
        "id": "4lVIcRISPBcP"
      }
    },
    {
      "cell_type": "code",
      "source": [],
      "metadata": {
        "id": "EygG-6nNPItD"
      },
      "execution_count": null,
      "outputs": []
    },
    {
      "cell_type": "markdown",
      "source": [
        "add to cost basis queue"
      ],
      "metadata": {
        "id": "FrWsvBMnPL3W"
      }
    },
    {
      "cell_type": "code",
      "source": [],
      "metadata": {
        "id": "o7anoXsKPNzr"
      },
      "execution_count": null,
      "outputs": []
    }
  ]
}