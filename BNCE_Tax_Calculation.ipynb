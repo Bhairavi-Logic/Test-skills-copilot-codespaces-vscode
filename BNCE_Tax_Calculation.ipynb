{
  "nbformat": 4,
  "nbformat_minor": 0,
  "metadata": {
    "colab": {
      "provenance": [],
      "toc_visible": true,
      "authorship_tag": "ABX9TyM8f8ztiuhCPPUnQS8Y4IKG",
      "include_colab_link": true
    },
    "kernelspec": {
      "name": "python3",
      "display_name": "Python 3"
    },
    "language_info": {
      "name": "python"
    }
  },
  "cells": [
    {
      "cell_type": "markdown",
      "metadata": {
        "id": "view-in-github",
        "colab_type": "text"
      },
      "source": [
        "<a href=\"https://colab.research.google.com/github/Bhairavi-Logic/Test-skills-copilot-codespaces-vscode/blob/main/BNCE_Tax_Calculation.ipynb\" target=\"_parent\"><img src=\"https://colab.research.google.com/assets/colab-badge.svg\" alt=\"Open In Colab\"/></a>"
      ]
    },
    {
      "cell_type": "markdown",
      "source": [
        "# Install Libraries"
      ],
      "metadata": {
        "id": "fXjYQ2CJz8Cz"
      }
    },
    {
      "cell_type": "code",
      "source": [
        "!pip install python-binance\n"
      ],
      "metadata": {
        "id": "6nbtVx8l0Hza",
        "outputId": "5968d130-89ef-4db3-a68d-671fbdf18e35",
        "colab": {
          "base_uri": "https://localhost:8080/"
        }
      },
      "execution_count": 8,
      "outputs": [
        {
          "output_type": "stream",
          "name": "stdout",
          "text": [
            "Collecting python-binance\n",
            "  Downloading python_binance-1.0.28-py2.py3-none-any.whl.metadata (13 kB)\n",
            "Requirement already satisfied: requests in /usr/local/lib/python3.11/dist-packages (from python-binance) (2.32.3)\n",
            "Requirement already satisfied: six in /usr/local/lib/python3.11/dist-packages (from python-binance) (1.17.0)\n",
            "Collecting dateparser (from python-binance)\n",
            "  Downloading dateparser-1.2.1-py3-none-any.whl.metadata (29 kB)\n",
            "Requirement already satisfied: aiohttp in /usr/local/lib/python3.11/dist-packages (from python-binance) (3.11.15)\n",
            "Requirement already satisfied: websockets in /usr/local/lib/python3.11/dist-packages (from python-binance) (15.0.1)\n",
            "Collecting pycryptodome (from python-binance)\n",
            "  Downloading pycryptodome-3.22.0-cp37-abi3-manylinux_2_17_x86_64.manylinux2014_x86_64.whl.metadata (3.4 kB)\n",
            "Requirement already satisfied: aiohappyeyeballs>=2.3.0 in /usr/local/lib/python3.11/dist-packages (from aiohttp->python-binance) (2.6.1)\n",
            "Requirement already satisfied: aiosignal>=1.1.2 in /usr/local/lib/python3.11/dist-packages (from aiohttp->python-binance) (1.3.2)\n",
            "Requirement already satisfied: attrs>=17.3.0 in /usr/local/lib/python3.11/dist-packages (from aiohttp->python-binance) (25.3.0)\n",
            "Requirement already satisfied: frozenlist>=1.1.1 in /usr/local/lib/python3.11/dist-packages (from aiohttp->python-binance) (1.5.0)\n",
            "Requirement already satisfied: multidict<7.0,>=4.5 in /usr/local/lib/python3.11/dist-packages (from aiohttp->python-binance) (6.2.0)\n",
            "Requirement already satisfied: propcache>=0.2.0 in /usr/local/lib/python3.11/dist-packages (from aiohttp->python-binance) (0.3.1)\n",
            "Requirement already satisfied: yarl<2.0,>=1.17.0 in /usr/local/lib/python3.11/dist-packages (from aiohttp->python-binance) (1.18.3)\n",
            "Requirement already satisfied: python-dateutil>=2.7.0 in /usr/local/lib/python3.11/dist-packages (from dateparser->python-binance) (2.8.2)\n",
            "Requirement already satisfied: pytz>=2024.2 in /usr/local/lib/python3.11/dist-packages (from dateparser->python-binance) (2025.2)\n",
            "Requirement already satisfied: regex!=2019.02.19,!=2021.8.27,>=2015.06.24 in /usr/local/lib/python3.11/dist-packages (from dateparser->python-binance) (2024.11.6)\n",
            "Requirement already satisfied: tzlocal>=0.2 in /usr/local/lib/python3.11/dist-packages (from dateparser->python-binance) (5.3.1)\n",
            "Requirement already satisfied: charset-normalizer<4,>=2 in /usr/local/lib/python3.11/dist-packages (from requests->python-binance) (3.4.1)\n",
            "Requirement already satisfied: idna<4,>=2.5 in /usr/local/lib/python3.11/dist-packages (from requests->python-binance) (3.10)\n",
            "Requirement already satisfied: urllib3<3,>=1.21.1 in /usr/local/lib/python3.11/dist-packages (from requests->python-binance) (2.3.0)\n",
            "Requirement already satisfied: certifi>=2017.4.17 in /usr/local/lib/python3.11/dist-packages (from requests->python-binance) (2025.1.31)\n",
            "\u001b[33mWARNING: Retrying (Retry(total=4, connect=None, read=None, redirect=None, status=None)) after connection broken by 'ProtocolError('Connection aborted.', RemoteDisconnected('Remote end closed connection without response'))': /packages/24/ec/e88f96b65ebb3087c4e335ab97251935416c70d7ad2113689938183d82f7/python_binance-1.0.28-py2.py3-none-any.whl\u001b[0m\u001b[33m\n",
            "\u001b[0mDownloading python_binance-1.0.28-py2.py3-none-any.whl (130 kB)\n",
            "\u001b[2K   \u001b[90m━━━━━━━━━━━━━━━━━━━━━━━━━━━━━━━━━━━━━━━━\u001b[0m \u001b[32m130.3/130.3 kB\u001b[0m \u001b[31m3.1 MB/s\u001b[0m eta \u001b[36m0:00:00\u001b[0m\n",
            "\u001b[?25hDownloading dateparser-1.2.1-py3-none-any.whl (295 kB)\n",
            "\u001b[2K   \u001b[90m━━━━━━━━━━━━━━━━━━━━━━━━━━━━━━━━━━━━━━━━\u001b[0m \u001b[32m295.7/295.7 kB\u001b[0m \u001b[31m9.7 MB/s\u001b[0m eta \u001b[36m0:00:00\u001b[0m\n",
            "\u001b[?25hDownloading pycryptodome-3.22.0-cp37-abi3-manylinux_2_17_x86_64.manylinux2014_x86_64.whl (2.3 MB)\n",
            "\u001b[2K   \u001b[90m━━━━━━━━━━━━━━━━━━━━━━━━━━━━━━━━━━━━━━━━\u001b[0m \u001b[32m2.3/2.3 MB\u001b[0m \u001b[31m42.5 MB/s\u001b[0m eta \u001b[36m0:00:00\u001b[0m\n",
            "\u001b[?25hInstalling collected packages: pycryptodome, dateparser, python-binance\n",
            "Successfully installed dateparser-1.2.1 pycryptodome-3.22.0 python-binance-1.0.28\n"
          ]
        }
      ]
    },
    {
      "cell_type": "markdown",
      "source": [
        "# Get Data from exchange"
      ],
      "metadata": {
        "id": "h0YDOOFUOIOL"
      }
    },
    {
      "cell_type": "markdown",
      "source": [
        "Get API values"
      ],
      "metadata": {
        "id": "Q6cmYLcjwd3a"
      }
    },
    {
      "cell_type": "code",
      "source": [
        "# prompt: write a code to get api values and store it to variables API and API_Secret. get it from environment variables BNCE_API and BNCE_API_Secret\n",
        "\n",
        "import os\n",
        "\n",
        "API = os.environ.get('BNCE_API')\n",
        "API_Secret = os.environ.get('BNCE_API_Secret')\n"
      ],
      "metadata": {
        "id": "A5A9nKC3wjea"
      },
      "execution_count": 1,
      "outputs": []
    },
    {
      "cell_type": "markdown",
      "source": [
        "The below code will extract transaction data from the exchange."
      ],
      "metadata": {
        "id": "bj-BJ6ypNwU5"
      }
    },
    {
      "cell_type": "code",
      "execution_count": 7,
      "metadata": {
        "id": "WXopqzJ9sWYl",
        "colab": {
          "base_uri": "https://localhost:8080/",
          "height": 529
        },
        "outputId": "aa082090-1d0b-4f25-86a9-9adce36913ee"
      },
      "outputs": [
        {
          "output_type": "error",
          "ename": "ModuleNotFoundError",
          "evalue": "No module named 'ccxt.bitfinex1'",
          "traceback": [
            "\u001b[0;31m---------------------------------------------------------------------------\u001b[0m",
            "\u001b[0;31mModuleNotFoundError\u001b[0m                       Traceback (most recent call last)",
            "\u001b[0;32m<ipython-input-7-74e92a267ddc>\u001b[0m in \u001b[0;36m<cell line: 0>\u001b[0;34m()\u001b[0m\n\u001b[1;32m      2\u001b[0m \u001b[0;31m# prompt: get transaction data from Binance from main and all sub accounts\u001b[0m\u001b[0;34m\u001b[0m\u001b[0;34m\u001b[0m\u001b[0m\n\u001b[1;32m      3\u001b[0m \u001b[0;34m\u001b[0m\u001b[0m\n\u001b[0;32m----> 4\u001b[0;31m \u001b[0;32mfrom\u001b[0m \u001b[0mbinance\u001b[0m\u001b[0;34m.\u001b[0m\u001b[0mclient\u001b[0m \u001b[0;32mimport\u001b[0m \u001b[0mClient\u001b[0m\u001b[0;34m\u001b[0m\u001b[0;34m\u001b[0m\u001b[0m\n\u001b[0m\u001b[1;32m      5\u001b[0m \u001b[0;32mimport\u001b[0m \u001b[0mpandas\u001b[0m \u001b[0;32mas\u001b[0m \u001b[0mpd\u001b[0m\u001b[0;34m\u001b[0m\u001b[0;34m\u001b[0m\u001b[0m\n\u001b[1;32m      6\u001b[0m \u001b[0;32mimport\u001b[0m \u001b[0mos\u001b[0m\u001b[0;34m\u001b[0m\u001b[0;34m\u001b[0m\u001b[0m\n",
            "\u001b[0;32m/usr/local/lib/python3.11/dist-packages/binance/__init__.py\u001b[0m in \u001b[0;36m<module>\u001b[0;34m\u001b[0m\n\u001b[1;32m      1\u001b[0m \u001b[0;32mimport\u001b[0m \u001b[0msys\u001b[0m\u001b[0;34m\u001b[0m\u001b[0;34m\u001b[0m\u001b[0m\n\u001b[0;32m----> 2\u001b[0;31m \u001b[0;32mimport\u001b[0m \u001b[0mbinance\u001b[0m\u001b[0;34m.\u001b[0m\u001b[0mccxt\u001b[0m \u001b[0;32mas\u001b[0m \u001b[0mccxt_module\u001b[0m\u001b[0;34m\u001b[0m\u001b[0;34m\u001b[0m\u001b[0m\n\u001b[0m\u001b[1;32m      3\u001b[0m \u001b[0msys\u001b[0m\u001b[0;34m.\u001b[0m\u001b[0mmodules\u001b[0m\u001b[0;34m[\u001b[0m\u001b[0;34m'ccxt'\u001b[0m\u001b[0;34m]\u001b[0m \u001b[0;34m=\u001b[0m \u001b[0mccxt_module\u001b[0m\u001b[0;34m\u001b[0m\u001b[0;34m\u001b[0m\u001b[0m\n\u001b[1;32m      4\u001b[0m \u001b[0;34m\u001b[0m\u001b[0m\n\u001b[1;32m      5\u001b[0m \u001b[0;32mfrom\u001b[0m \u001b[0mbinance\u001b[0m\u001b[0;34m.\u001b[0m\u001b[0mccxt\u001b[0m \u001b[0;32mimport\u001b[0m \u001b[0mbinance\u001b[0m \u001b[0;32mas\u001b[0m \u001b[0mBinanceSync\u001b[0m\u001b[0;34m\u001b[0m\u001b[0;34m\u001b[0m\u001b[0m\n",
            "\u001b[0;32m/usr/local/lib/python3.11/dist-packages/binance/ccxt/__init__.py\u001b[0m in \u001b[0;36m<module>\u001b[0;34m\u001b[0m\n\u001b[1;32m     89\u001b[0m \u001b[0;34m\u001b[0m\u001b[0m\n\u001b[1;32m     90\u001b[0m \u001b[0;32mfrom\u001b[0m \u001b[0mccxt\u001b[0m\u001b[0;34m.\u001b[0m\u001b[0mbinance\u001b[0m \u001b[0;32mimport\u001b[0m \u001b[0mbinance\u001b[0m                                      \u001b[0;31m# noqa: F401\u001b[0m\u001b[0;34m\u001b[0m\u001b[0;34m\u001b[0m\u001b[0m\n\u001b[0;32m---> 91\u001b[0;31m \u001b[0;32mfrom\u001b[0m \u001b[0mccxt\u001b[0m\u001b[0;34m.\u001b[0m\u001b[0mbitfinex1\u001b[0m \u001b[0;32mimport\u001b[0m \u001b[0mbitfinex1\u001b[0m                                  \u001b[0;31m# noqa: F401\u001b[0m\u001b[0;34m\u001b[0m\u001b[0;34m\u001b[0m\u001b[0m\n\u001b[0m\u001b[1;32m     92\u001b[0m \u001b[0;34m\u001b[0m\u001b[0m\n\u001b[1;32m     93\u001b[0m \u001b[0mexchanges\u001b[0m \u001b[0;34m=\u001b[0m \u001b[0;34m[\u001b[0m    \u001b[0;34m'binance'\u001b[0m\u001b[0;34m,\u001b[0m    \u001b[0;34m'bitfinex1'\u001b[0m\u001b[0;34m,\u001b[0m\u001b[0;34m]\u001b[0m\u001b[0;34m\u001b[0m\u001b[0;34m\u001b[0m\u001b[0m\n",
            "\u001b[0;31mModuleNotFoundError\u001b[0m: No module named 'ccxt.bitfinex1'",
            "",
            "\u001b[0;31m---------------------------------------------------------------------------\u001b[0;32m\nNOTE: If your import is failing due to a missing package, you can\nmanually install dependencies using either !pip or !apt.\n\nTo view examples of installing some common dependencies, click the\n\"Open Examples\" button below.\n\u001b[0;31m---------------------------------------------------------------------------\u001b[0m\n"
          ],
          "errorDetails": {
            "actions": [
              {
                "action": "open_url",
                "actionText": "Open Examples",
                "url": "/notebooks/snippets/importing_libraries.ipynb"
              }
            ]
          }
        }
      ],
      "source": [
        "# @title Get Data\n",
        "# prompt: get transaction data from Binance from main and all sub accounts\n",
        "\n",
        "from binance.client import Client\n",
        "import pandas as pd\n",
        "import os\n",
        "\n",
        "# Replace with your API key and secret\n",
        "api_key = os.environ.get(API)  # Recommended: Store keys as environment variables\n",
        "api_secret = os.environ.get(API_Secret)\n",
        "\n",
        "client = Client(api_key, api_secret)\n",
        "\n",
        "def get_transactions(client, account_type='MAIN'):\n",
        "    \"\"\"Fetches transaction data from Binance.\n",
        "\n",
        "    Args:\n",
        "      client: Binance API client instance.\n",
        "      account_type: 'MAIN' or a sub-account email.\n",
        "\n",
        "    Returns:\n",
        "      pandas.DataFrame of transactions, or None on error.\n",
        "    \"\"\"\n",
        "    try:\n",
        "        if account_type == 'MAIN':\n",
        "            transactions = client.get_deposit_history()  # Example: Deposit History, change to get other transaction types\n",
        "        else:\n",
        "            transactions = client.get_deposit_history(email=account_type) #For sub accounts\n",
        "\n",
        "        df = pd.DataFrame(transactions['depositList'])\n",
        "        return df\n",
        "\n",
        "    except Exception as e:\n",
        "        print(f\"Error fetching data for {account_type}: {e}\")\n",
        "        return None\n",
        "\n",
        "def get_all_transactions(client):\n",
        "  \"\"\"Retrieves and combines transactions for the main account and any sub-accounts.\"\"\"\n",
        "  all_transactions = []\n",
        "\n",
        "  # Get main account transactions\n",
        "  main_transactions = get_transactions(client)\n",
        "  if main_transactions is not None:\n",
        "    all_transactions.append(main_transactions)\n",
        "\n",
        "\n",
        "  # Get sub-account transaction (you need to handle sub-account emails here)\n",
        "  # Replace 'subaccount@email.com' with actual sub-account email addresses\n",
        "  sub_account_emails = ['subaccount@email.com', 'another_sub@account.com'] #Example\n",
        "  for email in sub_account_emails:\n",
        "    sub_transactions = get_transactions(client, email)\n",
        "    if sub_transactions is not None:\n",
        "      all_transactions.append(sub_transactions)\n",
        "\n",
        "  if all_transactions:\n",
        "    combined_df = pd.concat(all_transactions, ignore_index=True)\n",
        "    return combined_df\n",
        "  else:\n",
        "    return None\n",
        "\n",
        "\n",
        "if __name__ == \"__main__\":\n",
        "  # Retrieve and combine all transaction data\n",
        "  all_data = get_all_transactions(client)\n",
        "  if all_data is not None:\n",
        "    all_data\n",
        "      # Further processing or saving of data\n",
        "      # Example: all_data.to_csv('all_transactions.csv', index=False)\n"
      ]
    },
    {
      "cell_type": "markdown",
      "source": [
        "# Transform Data"
      ],
      "metadata": {
        "id": "BR5uONY7OT14"
      }
    },
    {
      "cell_type": "markdown",
      "source": [
        "This section will transform data for use as necesary"
      ],
      "metadata": {
        "id": "Y236shmGObqO"
      }
    },
    {
      "cell_type": "code",
      "source": [],
      "metadata": {
        "id": "Vi1vYT84OiuF"
      },
      "execution_count": null,
      "outputs": []
    },
    {
      "cell_type": "markdown",
      "source": [
        "# Calculate Tax"
      ],
      "metadata": {
        "id": "o4WWVv5LOmcf"
      }
    },
    {
      "cell_type": "markdown",
      "source": [
        "This section will have series of functions and procedures to help calculate tax."
      ],
      "metadata": {
        "id": "enmwRqlgOt3W"
      }
    },
    {
      "cell_type": "markdown",
      "source": [
        "Calculate tax function"
      ],
      "metadata": {
        "id": "8dSi-jMOO3_h"
      }
    },
    {
      "cell_type": "code",
      "source": [],
      "metadata": {
        "id": "BaF5hF32O7n2"
      },
      "execution_count": null,
      "outputs": []
    },
    {
      "cell_type": "markdown",
      "source": [
        "remove from cost basis queue"
      ],
      "metadata": {
        "id": "4lVIcRISPBcP"
      }
    },
    {
      "cell_type": "code",
      "source": [],
      "metadata": {
        "id": "EygG-6nNPItD"
      },
      "execution_count": null,
      "outputs": []
    },
    {
      "cell_type": "markdown",
      "source": [
        "add to cost basis queue"
      ],
      "metadata": {
        "id": "FrWsvBMnPL3W"
      }
    },
    {
      "cell_type": "code",
      "source": [],
      "metadata": {
        "id": "o7anoXsKPNzr"
      },
      "execution_count": null,
      "outputs": []
    }
  ]
}